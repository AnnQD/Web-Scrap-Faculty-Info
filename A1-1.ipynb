{
 "cells": [
  {
   "cell_type": "markdown",
   "metadata": {},
   "source": [
    "# Assignment 1-1: Web Scraping"
   ]
  },
  {
   "cell_type": "markdown",
   "metadata": {},
   "source": [
    "## Objective"
   ]
  },
  {
   "cell_type": "markdown",
   "metadata": {},
   "source": [
    "Data scientists often need to crawl data from websites and turn the crawled data (HTML pages) to structured data (tables). Thus, web scraping is an essential skill that every data scientist should master. In this assignment, you will learn the followings:\n",
    "\n",
    "\n",
    "* How to download HTML pages from a website?\n",
    "* How to extract relevant content from an HTML page? \n",
    "\n",
    "Furthermore, you will gain a deeper understanding of the data science lifecycle.\n",
    "\n",
    "**Requirements:**\n",
    "\n",
    "1. Please use [pandas.DataFrame](http://pandas.pydata.org/pandas-docs/stable/generated/pandas.DataFrame.html) rather than spark.DataFrame to manipulate data.\n",
    "\n",
    "2. Please use [BeautifulSoup](https://www.crummy.com/software/BeautifulSoup/) rather than [lxml](http://lxml.de/) to parse an HTML page and extract data from the page.\n",
    "\n",
    "3. Please follow the python code style (https://www.python.org/dev/peps/pep-0008/). If TA finds your code hard to read, you will lose points. This requirement will stay for the whole semester."
   ]
  },
  {
   "cell_type": "markdown",
   "metadata": {},
   "source": [
    "## Preliminary"
   ]
  },
  {
   "cell_type": "markdown",
   "metadata": {},
   "source": [
    "If this is your first time to write a web scraper, you need to learn some basic knowledge of this topic. I found that this is a good resource: [Tutorial: Web Scraping and BeautifulSoup](https://www.dataquest.io/blog/web-scraping-beautifulsoup/). \n",
    "\n",
    "Please let me know if you find a better resource. I'll share it with the other students."
   ]
  },
  {
   "cell_type": "markdown",
   "metadata": {},
   "source": [
    "## Overview"
   ]
  },
  {
   "attachments": {},
   "cell_type": "markdown",
   "metadata": {},
   "source": [
    "Imagine you are a data scientist working at SFU. Your job is to extract insights from SFU data to answer questions. \n",
    "\n",
    "In this assignment, you will do two tasks. Please recall the high-level data science lifecycle from Lecture 1. I suggest that when doing this assignment, please remind yourself of what data you collected and what questions you tried to answer."
   ]
  },
  {
   "cell_type": "markdown",
   "metadata": {},
   "source": [
    "## Task 1: SFU CS Faculty Members"
   ]
  },
  {
   "cell_type": "markdown",
   "metadata": {},
   "source": [
    "Sometimes you don't know what questions to ask. No worries. Start collecting data first. \n",
    "\n",
    "In Task 1, your job is to write a web scraper to extract the faculty information from this page: [http://www.sfu.ca/computing/people/faculty.html](http://www.sfu.ca/computing/people/faculty.html).\n",
    "\n",
    "\n"
   ]
  },
  {
   "cell_type": "markdown",
   "metadata": {},
   "source": [
    "### (a) Crawl Web Page"
   ]
  },
  {
   "cell_type": "markdown",
   "metadata": {},
   "source": [
    "A web page is essentially a file stored in a remote machine (called web server). Please write code to download the HTML page and save it as a text file (\"csfaculty.html\")."
   ]
  },
  {
   "cell_type": "code",
   "execution_count": 7,
   "metadata": {
    "ExecuteTime": {
     "end_time": "2024-01-10T20:29:38.648188500Z",
     "start_time": "2024-01-10T20:29:37.571346600Z"
    }
   },
   "outputs": [
    {
     "name": "stdout",
     "output_type": "stream",
     "text": [
      "HTML page downloaded and saved as csfaculty.html\n"
     ]
    }
   ],
   "source": [
    "# write your code\n",
    "import requests\n",
    "\n",
    "def download_html(url, filename):\n",
    "    try:\n",
    "        # Send an HTTP request to the specified URL\n",
    "        response = requests.get(url)\n",
    "        \n",
    "        # Check if the request was successful (status code 200)\n",
    "        if response.status_code == 200:\n",
    "            # Save the HTML content to a text file\n",
    "            with open(filename, 'w', encoding='utf-8') as file:\n",
    "                file.write(response.text)\n",
    "            print(f\"HTML page downloaded and saved as {filename}\")\n",
    "        else:\n",
    "            print(f\"Failed to download HTML. Status code: {response.status_code}\")\n",
    "    except Exception as e:\n",
    "        print(f\"An error occurred: {e}\")\n",
    "\n",
    "# Specify the URL of the HTML page you want to download\n",
    "url = \"http://www.sfu.ca/computing/people/faculty.html\"\n",
    "\n",
    "# Specify the desired filename for the saved HTML content\n",
    "filename = \"csfaculty.html\"\n",
    "\n",
    "# Call the function to download and save the HTML page\n",
    "download_html(url, filename)"
   ]
  },
  {
   "cell_type": "markdown",
   "metadata": {},
   "source": [
    "### (b) Extract Structured Data"
   ]
  },
  {
   "cell_type": "markdown",
   "metadata": {},
   "source": [
    "Please write code to extract relevant content (name, rank, area, profile, homepage) from \"csfaculty.html\" and save them as a CSV file (like [faculty_table.csv](./faculty_table.csv)). "
   ]
  },
  {
   "cell_type": "code",
   "execution_count": 8,
   "metadata": {
    "ExecuteTime": {
     "end_time": "2024-01-10T20:29:48.249710200Z",
     "start_time": "2024-01-10T20:29:47.996270200Z"
    }
   },
   "outputs": [
    {
     "name": "stdout",
     "output_type": "stream",
     "text": [
      "CSV file saved successfully.\n"
     ]
    },
    {
     "name": "stderr",
     "output_type": "stream",
     "text": [
      "C:\\Users\\duanq\\AppData\\Local\\Temp\\ipykernel_18100\\2396079795.py:32: DeprecationWarning: The 'text' argument to find()-type methods is deprecated. Use 'string' instead.\n",
      "  area_flag = faculty_div.find('b', text=['Area:', 'Area: ','Area','Area:&nbsp;','Area','Area:&nbsp; '])\n",
      "C:\\Users\\duanq\\AppData\\Local\\Temp\\ipykernel_18100\\2396079795.py:39: DeprecationWarning: The 'text' argument to find()-type methods is deprecated. Use 'string' instead.\n",
      "  profile_link = faculty_div.find('a', text='Profile & Contact Information')\n",
      "C:\\Users\\duanq\\AppData\\Local\\Temp\\ipykernel_18100\\2396079795.py:45: DeprecationWarning: The 'text' argument to find()-type methods is deprecated. Use 'string' instead.\n",
      "  homepage_link = faculty_div.find('a', text='Home Page')\n"
     ]
    }
   ],
   "source": [
    "# write your code\n",
    "from bs4 import BeautifulSoup\n",
    "import csv\n",
    "\n",
    "def extract_faculty_data(html_content):\n",
    "    soup = BeautifulSoup(html_content, 'html.parser')\n",
    "\n",
    "    faculty_data = []\n",
    "    faculty_div = soup.find('div', class_='text')\n",
    "    \n",
    "    while True:\n",
    "       h4_tag = faculty_div.find('h4')\n",
    "       if h4_tag:\n",
    "         name_and_rank = h4_tag.text.strip().split(', ')\n",
    "         name = name_and_rank[0]\n",
    "         rank_long = name_and_rank[1] if len(name_and_rank) > 1 else None\n",
    "         if rank_long is not None:\n",
    "           if \"Assistant Professor\" in rank_long or \"ASSISTANT PROFESSOR\" in rank_long:\n",
    "                rank = \"Assistant Professor\"\n",
    "           elif \"Associate Professor\" in rank_long   or \"ASSOCIATE PROFESSOR\" in rank_long:\n",
    "                rank = \"Associate Professor\"\n",
    "           elif \"Professor\" in rank_long  or \"PROFESSOR\" in rank_long:\n",
    "               rank = \"Professor\"\n",
    "           elif \"Senior Lecturer\" in rank_long  or \"SENIOR LECTURER\" in rank_long:\n",
    "               rank = \"Senior Lecturer\"\n",
    "           elif \"Lecturer\" in rank_long  or \"LECTURER\" in rank_long:\n",
    "               rank = \"Lecturer\"\n",
    "           else: rank = \"other professor title\"\n",
    "         else: rank = \"other professor title\"\n",
    "       \n",
    "         # Extracting area\n",
    "         area_flag = faculty_div.find('b', text=['Area:', 'Area: ','Area','Area:&nbsp;','Area','Area:&nbsp; '])\n",
    "        \n",
    "         if area_flag is not None:\n",
    "            area = area_flag.next_sibling.get_text(strip=True)            \n",
    "         else: area = None\n",
    "\n",
    "         # Extracting profile and homepage\n",
    "         profile_link = faculty_div.find('a', text='Profile & Contact Information')\n",
    "         if profile_link is not None:\n",
    "            profile = profile_link.get('href', None)\n",
    "         else:\n",
    "            profile = None\n",
    "         \n",
    "         homepage_link = faculty_div.find('a', text='Home Page')\n",
    "         if homepage_link is not None:\n",
    "            homepage = homepage_link.get('href', None)\n",
    "         else:\n",
    "            homepage = None\n",
    "         faculty_data.append([name, rank, area, profile, homepage])\n",
    "       faculty_div = faculty_div.find_next('div', class_='text') if faculty_div else None\n",
    "       if faculty_div is None:\n",
    "           break\n",
    "       else:\n",
    "           name = None\n",
    "           rank = None\n",
    "           area = None \n",
    "           profile = None\n",
    "           homepage =None\n",
    "        \n",
    "    return faculty_data\n",
    "\n",
    "def save_to_csv(data, filename):\n",
    "    with open(filename, 'w', newline='', encoding='utf-8') as csv_file:\n",
    "        csv_writer = csv.writer(csv_file)\n",
    "        header = [\"Name\", \"Rank\", \"Area\", \"Profile\", \"Homepage\"]\n",
    "        csv_writer.writerow(header)\n",
    "        csv_writer.writerows(data)\n",
    "\n",
    "if __name__ == \"__main__\":\n",
    "    # Load the HTML content from the file\n",
    "    with open(\"csfaculty.html\", 'r', encoding='utf-8') as html_file:\n",
    "        html_content = html_file.read()\n",
    "\n",
    "    # Extract faculty data\n",
    "    faculty_data = extract_faculty_data(html_content)\n",
    "\n",
    "    # Save the data to a CSV file\n",
    "    save_to_csv(faculty_data, \"faculty_table.csv\")\n",
    "\n",
    "    print(\"CSV file saved successfully.\")"
   ]
  },
  {
   "cell_type": "markdown",
   "metadata": {},
   "source": [
    "### (c) Interesting Finding"
   ]
  },
  {
   "cell_type": "markdown",
   "metadata": {},
   "source": [
    "Note that you don't need to do anything for Task 1(c). The purpose of this part is to give you some sense about how to leverage exploratory data analysis (EDA) to come up with interesting questions about the data. EDA is an important topic in data science; you will  learn it soon from this course. \n",
    "\n",
    "\n",
    "First, please install [dataprep](http://dataprep.ai).\n",
    "Then, run the cell below. \n",
    "It shows a bar chart for every column. What interesting findings can you get from these visualizations? "
   ]
  },
  {
   "cell_type": "code",
   "execution_count": null,
   "metadata": {},
   "outputs": [],
   "source": [
    "from dataprep.eda import plot\n",
    "import pandas as pd\n",
    "\n",
    "df = pd.read_csv(\"faculty_table.csv\")\n",
    "plot(df)"
   ]
  },
  {
   "cell_type": "markdown",
   "metadata": {},
   "source": [
    "Below are some examples:\n",
    "\n",
    "**Finding 1:** Professor# (26) is more than 2x larger than Associate Professor# (10). \n",
    "\n",
    "**Questions:** Why did it happen? Is it common in all CS schools in Canada? Will the gap go larger or smaller in five years? What actions can be taken to enlarge/shrink the gap?\n",
    "\n",
    "\n",
    "**Finding 2:** The Homepage has 22% missing values. \n",
    "\n",
    "**Questions:** Why are there so many missing values? Is it because many faculty do not have their own homepages or do not add their homepages to the school page? What actions can be taken to avoid this to happen in the future? "
   ]
  },
  {
   "cell_type": "markdown",
   "metadata": {},
   "source": [
    "## Task 2: Age Follows Normal Distribution?"
   ]
  },
  {
   "cell_type": "markdown",
   "metadata": {},
   "source": [
    "In this task, you start with a question and then figure out what data to collect.\n",
    "\n",
    "The question that you are interested in is `Does SFU CS faculty age follow a normal distribution?`\n",
    "\n",
    "To estimate the age of a faculty member, you can collect the year in which s/he graduates from a university (`gradyear`) and then estimate `age` using the following equation:\n",
    "\n",
    "$$age \\approx 2021+23 - gradyear$$\n",
    "\n",
    "For example, if one graduates from a university in 1990, then the age is estimated as 2021+23-1990 = 54. \n",
    "\n"
   ]
  },
  {
   "cell_type": "markdown",
   "metadata": {},
   "source": [
    "### (a) Crawl Web Page"
   ]
  },
  {
   "cell_type": "markdown",
   "metadata": {},
   "source": [
    "You notice that faculty profile pages contain graduation information. For example, you can see that Dr. Jiannan Wang graduated from Harbin Institute of Technology in 2008 at [http://www.sfu.ca/computing/people/faculty/jiannanwang.html](http://www.sfu.ca/computing/people/faculty/jiannanwang.html). \n",
    "\n",
    "\n",
    "Please write code to download the 68 profile pages and save each page as a text file. "
   ]
  },
  {
   "cell_type": "code",
   "execution_count": null,
   "metadata": {},
   "outputs": [],
   "source": [
    "# Write your code"
   ]
  },
  {
   "cell_type": "markdown",
   "metadata": {},
   "source": [
    "### (b) Extract Structured Data"
   ]
  },
  {
   "cell_type": "markdown",
   "metadata": {},
   "source": [
    "Please write code to extract the earliest graduation year (e.g., 2008 for Dr. Jiannan Wang) from each profile page, and create a csv file like [faculty_grad_year.csv](./faculty_grad_year.csv). "
   ]
  },
  {
   "cell_type": "code",
   "execution_count": null,
   "metadata": {},
   "outputs": [],
   "source": [
    "# write your code here"
   ]
  },
  {
   "cell_type": "markdown",
   "metadata": {},
   "source": [
    "### (c) Interesting Finding"
   ]
  },
  {
   "cell_type": "markdown",
   "metadata": {},
   "source": [
    "Similar to Task 1(c), you don't need to do anything here. Just look at different visualizations w.r.t. age and give yourself an answer to the question: `Does SFU CS faculty age follow a normal distribution?`"
   ]
  },
  {
   "cell_type": "code",
   "execution_count": null,
   "metadata": {
    "scrolled": true
   },
   "outputs": [],
   "source": [
    "from dataprep.eda import plot\n",
    "import pandas as pd\n",
    "\n",
    "df = pd.read_csv(\"faculty_grad_year.csv\")\n",
    "df[\"age\"] = 2021+23-df[\"gradyear\"]\n",
    "\n",
    "plot(df, \"age\")"
   ]
  },
  {
   "cell_type": "markdown",
   "metadata": {},
   "source": [
    "## Submission"
   ]
  },
  {
   "cell_type": "markdown",
   "metadata": {},
   "source": [
    "Complete the code in this notebook, and submit it to the CourSys activity `Assignment 1`."
   ]
  }
 ],
 "metadata": {
  "kernelspec": {
   "display_name": "Python 3",
   "language": "python",
   "name": "python3"
  },
  "language_info": {
   "codemirror_mode": {
    "name": "ipython",
    "version": 3
   },
   "file_extension": ".py",
   "mimetype": "text/x-python",
   "name": "python",
   "nbconvert_exporter": "python",
   "pygments_lexer": "ipython3",
   "version": "3.11.0 (main, Nov 15 2022, 05:43:36) [Clang 14.0.0 (clang-1400.0.29.202)]"
  },
  "vscode": {
   "interpreter": {
    "hash": "1a1af0ee75eeea9e2e1ee996c87e7a2b11a0bebd85af04bb136d915cefc0abce"
   }
  }
 },
 "nbformat": 4,
 "nbformat_minor": 1
}
